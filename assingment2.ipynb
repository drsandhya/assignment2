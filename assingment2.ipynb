{
 "cells": [
  {
   "cell_type": "markdown",
   "id": "0ce942d6-98c5-423c-a71c-70af6a7375bc",
   "metadata": {},
   "source": [
    "# Q1. How do you comment code in Python? What are the different types of comments?\n",
    "\n",
    "\"\"\"\n",
    "Multi-line comments\n",
    "\"\"\"\n",
    "\n",
    "# singale line comments "
   ]
  },
  {
   "cell_type": "markdown",
   "id": "a60d9ab8-4086-4091-a034-dc65b45c9719",
   "metadata": {},
   "source": [
    "# Q2. What are variables in Python? How do you declare and assign values to variables?\n",
    "\n",
    "variables are used to store data values.\n",
    "\n",
    "my_variable = 5\n",
    "\n",
    "x, y, z = 6,7,8\n",
    "\n",
    "my_variable1 = \"Hello\""
   ]
  },
  {
   "cell_type": "code",
   "execution_count": null,
   "id": "e4818989-44d3-495f-af6b-1c5bd389fb9e",
   "metadata": {},
   "outputs": [],
   "source": [
    "# Q3. How do you convert one data type to another in Python?\n",
    "\n",
    "\n",
    "# 1\n",
    "x = 5\n",
    "y = 3.4\n",
    "z = x + y \n",
    "\n",
    "#2\n",
    "a = 7\n",
    "b =\"years ols \"\n",
    "c = \"Ram is \" + str(a) + y \n",
    "\n",
    "#3\n",
    "a = 3.6\n",
    "b = 7\n",
    "c = int(a)\n",
    "d = c + b\n"
   ]
  },
  {
   "cell_type": "code",
   "execution_count": null,
   "id": "78be55c7-9ba9-40b2-8f4f-09773490eacf",
   "metadata": {},
   "outputs": [],
   "source": [
    "# Q4. How do you write and execute a Python script from the command line?\n",
    "\n",
    "\n",
    "Open a text editor - create file script.py\n",
    "print(\"Hello \")\n",
    "Save file\n",
    "Open the command line \n",
    "cd Documents\n",
    "Execute the script : script.py\n",
    "Press Enter\n",
    "\n"
   ]
  },
  {
   "cell_type": "code",
   "execution_count": 1,
   "id": "62b338cf-bb76-4e2c-a9a6-46e7ef1d4bfb",
   "metadata": {},
   "outputs": [
    {
     "name": "stdout",
     "output_type": "stream",
     "text": [
      "[2, 3]\n"
     ]
    }
   ],
   "source": [
    "# Q5. Given a list my_list = [1, 2, 3, 4, 5], write the code to slice the list and obtain the sub-list [2, 3].\n",
    "\n",
    "my_list = [1, 2, 3, 4, 5]\n",
    "sub_list = my_list[1:3]\n",
    "print(sub_list)\n"
   ]
  },
  {
   "cell_type": "code",
   "execution_count": 2,
   "id": "ef7bf803-eeb5-4060-8dee-f62cf873dccd",
   "metadata": {},
   "outputs": [
    {
     "name": "stdout",
     "output_type": "stream",
     "text": [
      "Additopn  (5+1j)\n",
      "Subtraction  (1+7j)\n",
      "Multiplication  (18-1j)\n",
      "Division  (-0.46153846153846156+1.3076923076923077j)\n"
     ]
    }
   ],
   "source": [
    "# Q6. What is a complex number in mathematics, and how is it represented in Python?\n",
    "\n",
    "z1 = 3 + 4j\n",
    "z2 = 2 - 3j\n",
    "\n",
    "addi = z1 + z2\n",
    "sub = z1 -z2\n",
    "multi = z1 * z2\n",
    "div = z1 /z2\n",
    "\n",
    "print(\"Additopn \", addi)\n",
    "print(\"Subtraction \",sub)\n",
    "print(\"Multiplication \",multi)\n",
    "print(\"Division \", div)"
   ]
  },
  {
   "cell_type": "code",
   "execution_count": null,
   "id": "d8369838-051e-477e-a0e4-bb4edc3f1389",
   "metadata": {},
   "outputs": [],
   "source": [
    "# Q7. What is the correct way to declare a variable named age and assign the value 25 to it?\n",
    "\n",
    "age = 25"
   ]
  },
  {
   "cell_type": "code",
   "execution_count": null,
   "id": "31092efc-49c3-45b0-830d-2b376db4e29d",
   "metadata": {},
   "outputs": [],
   "source": [
    "# Q8. Declare a variable named price and assign the value 9.99 to it. What data type does this variable\n",
    "# belong to?\n",
    "\n",
    "price = 9.99\n"
   ]
  },
  {
   "cell_type": "code",
   "execution_count": null,
   "id": "1f694198-4fed-461c-8dc1-74d6fa8382bf",
   "metadata": {},
   "outputs": [],
   "source": [
    "# Q9. Create a variable named name and assign your full name to it as a string. How would you print the\n",
    "# value of this variable?\n",
    "\n",
    "name = \"Sandhya Jadhav\"\n",
    "print(name)"
   ]
  },
  {
   "cell_type": "code",
   "execution_count": 3,
   "id": "ab729f5b-086c-4fd3-8c2a-0efafa7b9fe7",
   "metadata": {},
   "outputs": [
    {
     "name": "stdout",
     "output_type": "stream",
     "text": [
      "World\n"
     ]
    }
   ],
   "source": [
    "# Q10. Given the string \"Hello, World!\", extract the substring \"World\".\n",
    "\n",
    "string = \"Hello World\"\n",
    "subs = string[6:11]\n",
    "print(subs)\n"
   ]
  },
  {
   "cell_type": "code",
   "execution_count": null,
   "id": "ca1f6ba3-38d1-4fea-895f-1d73cb5d3dfc",
   "metadata": {},
   "outputs": [],
   "source": [
    "# Q11. Create a variable named \"is_student\" and assign it a boolean value indicating whether you are\n",
    "# currently a student or not.\n",
    "\n",
    "is_student = True"
   ]
  },
  {
   "cell_type": "code",
   "execution_count": null,
   "id": "527fe8cf-f7ee-45cb-9c10-c0dfb75bc91b",
   "metadata": {},
   "outputs": [],
   "source": []
  },
  {
   "cell_type": "code",
   "execution_count": null,
   "id": "5d7c87a4-2def-491d-b530-9e132a5e9970",
   "metadata": {},
   "outputs": [],
   "source": []
  }
 ],
 "metadata": {
  "kernelspec": {
   "display_name": "Python 3 (ipykernel)",
   "language": "python",
   "name": "python3"
  },
  "language_info": {
   "codemirror_mode": {
    "name": "ipython",
    "version": 3
   },
   "file_extension": ".py",
   "mimetype": "text/x-python",
   "name": "python",
   "nbconvert_exporter": "python",
   "pygments_lexer": "ipython3",
   "version": "3.10.8"
  }
 },
 "nbformat": 4,
 "nbformat_minor": 5
}
